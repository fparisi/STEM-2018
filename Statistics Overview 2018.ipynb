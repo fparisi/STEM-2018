{
 "cells": [
  {
   "cell_type": "code",
   "execution_count": 2,
   "metadata": {},
   "outputs": [],
   "source": [
    "# import the modules we need\n",
    "# using 'as' allows us to use an alias\n",
    "import numpy as np\n",
    "import scipy as sp\n",
    "from scipy import stats\n",
    "import matplotlib.pyplot as plt\n",
    "import pandas as pd\n",
    "import statistics as s"
   ]
  },
  {
   "cell_type": "code",
   "execution_count": null,
   "metadata": {
    "collapsed": true
   },
   "outputs": [],
   "source": [
    "# create an array -- this is one dimensional like a vector\n",
    "# numpy defines the ndarray -- an n-dimensional array\n",
    "x = np.array([1, 2, 3, 7, 4, 5, 4, 6, 8, 10, 3, 4, 4, 3, 4, 5])"
   ]
  },
  {
   "cell_type": "code",
   "execution_count": null,
   "metadata": {},
   "outputs": [],
   "source": [
    "np.var(x) # population variance "
   ]
  },
  {
   "cell_type": "code",
   "execution_count": null,
   "metadata": {},
   "outputs": [],
   "source": [
    "s.var(x)  ## Error -- no var() in statistics module"
   ]
  },
  {
   "cell_type": "code",
   "execution_count": null,
   "metadata": {},
   "outputs": [],
   "source": [
    "# display the mean\n",
    "# either use the mean() method with instance x\n",
    "# or call it using np explicity and pasing x as a parameter\n",
    "# or use the built-in mean from the statistics module\n",
    "x.mean()"
   ]
  },
  {
   "cell_type": "code",
   "execution_count": null,
   "metadata": {},
   "outputs": [],
   "source": [
    "np.mean(x)"
   ]
  },
  {
   "cell_type": "code",
   "execution_count": null,
   "metadata": {},
   "outputs": [],
   "source": [
    "s.mean(x)"
   ]
  },
  {
   "cell_type": "code",
   "execution_count": null,
   "metadata": {},
   "outputs": [],
   "source": [
    "# weighted mean\n",
    "np.average(x, weights=[0.0625, 0.0625,0.1225,0.0025,0.0625,0.1225,0.025,0.0625,0.0625,0.0625,0.0625,0.0625,0.0625,\n",
    "                       0.0625,0.0625,0.0625])"
   ]
  },
  {
   "cell_type": "code",
   "execution_count": null,
   "metadata": {},
   "outputs": [],
   "source": [
    "# standard deviation\n",
    "# we can use print to format our output\n",
    "print('%.4f' % x.std())\n",
    "print('%.4f' % np.std(x))\n",
    "print('%.4f' % s.stdev(x))"
   ]
  },
  {
   "cell_type": "code",
   "execution_count": null,
   "metadata": {},
   "outputs": [],
   "source": [
    "# let's take another look explicitly calculating the variance\n",
    "y = (x-x.mean())**2\n",
    "z = (y.sum()/len(x))**(0.5)\n",
    "print('%.4f' % z)"
   ]
  },
  {
   "cell_type": "code",
   "execution_count": null,
   "metadata": {},
   "outputs": [],
   "source": [
    "# notice np.std() divides by n by default which gives us the population variance\n",
    "# change the parameter ddof=1 to divide by n-1 for an unbiased sample standard deviation\n",
    "print('%.4f' % x.std(ddof=1))\n",
    "print('%.4f' % np.std(x, ddof=1))"
   ]
  },
  {
   "cell_type": "code",
   "execution_count": null,
   "metadata": {},
   "outputs": [],
   "source": [
    "# check it 'by hand'\n",
    "w = (y.sum()/(len(x)-1))**(0.5)\n",
    "print('%.4f' % w)"
   ]
  },
  {
   "cell_type": "code",
   "execution_count": null,
   "metadata": {},
   "outputs": [],
   "source": [
    "# find the median of the data -- the middle value\n",
    "print(np.median(x))\n",
    "print(s.median(x))"
   ]
  },
  {
   "cell_type": "code",
   "execution_count": null,
   "metadata": {},
   "outputs": [],
   "source": [
    "# and the mode -- the most frequently occurring value\n",
    "np.mode(x)  ## Error!  NumPy does not have a mode()"
   ]
  },
  {
   "cell_type": "code",
   "execution_count": null,
   "metadata": {},
   "outputs": [],
   "source": [
    "s.mode(x)"
   ]
  },
  {
   "cell_type": "code",
   "execution_count": null,
   "metadata": {},
   "outputs": [],
   "source": [
    "# you can set the precision of the output\n",
    "np.set_printoptions(precision=4) \n",
    "\n",
    "# create a two dimensional array\n",
    "# summary stats for the entire array\n",
    "# x2 has two rows and five columns\n",
    "x2 = np.array([[1, 2, 3, 4, 6], [7, 8, 10, 9, 12]])\n",
    "print(np.mean(x2), np.median(x2), '%.4f' % np.std(x2, ddof=1), sep='\\t') "
   ]
  },
  {
   "cell_type": "code",
   "execution_count": null,
   "metadata": {},
   "outputs": [],
   "source": [
    "# summary stats column wise - set axis = 0\n",
    "print(np.mean(x2, axis=0), np.median(x2, axis=0), np.std(x2, ddof=1, axis=0), sep='\\t')\n",
    "\n",
    "# row wise  - set axis = 1 -- print formatting retained\n",
    "print(np.mean(x2, axis=1), np.median(x2, axis=1), np.std(x2, ddof=1, axis=1), sep='\\t')"
   ]
  },
  {
   "cell_type": "code",
   "execution_count": null,
   "metadata": {},
   "outputs": [],
   "source": [
    "# Create a pandas Series -- a one dimensional array (aka a vector)\n",
    "# then display the summary statistics\n",
    "y = pd.Series(x)\n",
    "y.describe()"
   ]
  },
  {
   "cell_type": "code",
   "execution_count": null,
   "metadata": {},
   "outputs": [],
   "source": [
    "# scipy stats also has a describe() method\n",
    "# displays summary statistics\n",
    "sp.stats.describe(x) "
   ]
  },
  {
   "cell_type": "code",
   "execution_count": null,
   "metadata": {},
   "outputs": [],
   "source": [
    "# create a two dimensional array\n",
    "# summary stats for the entire array\n",
    "import numpy as np\n",
    "x2 = np.array([[1, 2, 3, 4, 6], [7, 8, 10, 9, 12]])\n",
    "print(np.mean(x2), np.median(x2), '%.4f' % np.std(x2, ddof=1), sep='\\t') "
   ]
  },
  {
   "cell_type": "code",
   "execution_count": null,
   "metadata": {},
   "outputs": [],
   "source": [
    "# we can calculate the correlation in several ways as well\n",
    "# np.corrcoef rreturns an np array\n",
    "np.corrcoef(x2)"
   ]
  },
  {
   "cell_type": "code",
   "execution_count": null,
   "metadata": {},
   "outputs": [],
   "source": [
    "# calculate Pearson's rho and the p-value\n",
    "# the p-value suggest the corelation is statistically significant\n",
    "import scipy as sp\n",
    "rho, pstat = sp.stats.pearsonr(x2[0, ], x2[1, ])\n",
    "print('rho = %.4f' % rho, 'p-val = %.4f' % pstat)"
   ]
  },
  {
   "cell_type": "code",
   "execution_count": null,
   "metadata": {},
   "outputs": [],
   "source": [
    "# compare sample means\n",
    "tstat, pval = sp.stats.ttest_ind(x2[0], x2[1])\n",
    "print('t-stat = %.3f ' % tstat, 'p-value = %.3f' % pval)"
   ]
  },
  {
   "cell_type": "code",
   "execution_count": 3,
   "metadata": {},
   "outputs": [
    {
     "data": {
      "text/html": [
       "<table class=\"simpletable\">\n",
       "<caption>OLS Regression Results</caption>\n",
       "<tr>\n",
       "  <th>Dep. Variable:</th>            <td>y</td>        <th>  R-squared:         </th> <td>   0.769</td>\n",
       "</tr>\n",
       "<tr>\n",
       "  <th>Model:</th>                   <td>OLS</td>       <th>  Adj. R-squared:    </th> <td>   0.756</td>\n",
       "</tr>\n",
       "<tr>\n",
       "  <th>Method:</th>             <td>Least Squares</td>  <th>  F-statistic:       </th> <td>   59.90</td>\n",
       "</tr>\n",
       "<tr>\n",
       "  <th>Date:</th>             <td>Fri, 29 Jun 2018</td> <th>  Prob (F-statistic):</th> <td>3.91e-07</td>\n",
       "</tr>\n",
       "<tr>\n",
       "  <th>Time:</th>                 <td>08:18:03</td>     <th>  Log-Likelihood:    </th> <td> -55.961</td>\n",
       "</tr>\n",
       "<tr>\n",
       "  <th>No. Observations:</th>      <td>    20</td>      <th>  AIC:               </th> <td>   115.9</td>\n",
       "</tr>\n",
       "<tr>\n",
       "  <th>Df Residuals:</th>          <td>    18</td>      <th>  BIC:               </th> <td>   117.9</td>\n",
       "</tr>\n",
       "<tr>\n",
       "  <th>Df Model:</th>              <td>     1</td>      <th>                     </th>     <td> </td>   \n",
       "</tr>\n",
       "<tr>\n",
       "  <th>Covariance Type:</th>      <td>nonrobust</td>    <th>                     </th>     <td> </td>   \n",
       "</tr>\n",
       "</table>\n",
       "<table class=\"simpletable\">\n",
       "<tr>\n",
       "    <td></td>       <th>coef</th>     <th>std err</th>      <th>t</th>      <th>P>|t|</th>  <th>[0.025</th>    <th>0.975]</th>  \n",
       "</tr>\n",
       "<tr>\n",
       "  <th>const</th> <td>    1.5225</td> <td>    1.667</td> <td>    0.913</td> <td> 0.373</td> <td>   -1.980</td> <td>    5.025</td>\n",
       "</tr>\n",
       "<tr>\n",
       "  <th>x1</th>    <td>    0.7493</td> <td>    0.097</td> <td>    7.740</td> <td> 0.000</td> <td>    0.546</td> <td>    0.953</td>\n",
       "</tr>\n",
       "</table>\n",
       "<table class=\"simpletable\">\n",
       "<tr>\n",
       "  <th>Omnibus:</th>       <td> 0.209</td> <th>  Durbin-Watson:     </th> <td>   1.625</td>\n",
       "</tr>\n",
       "<tr>\n",
       "  <th>Prob(Omnibus):</th> <td> 0.901</td> <th>  Jarque-Bera (JB):  </th> <td>   0.376</td>\n",
       "</tr>\n",
       "<tr>\n",
       "  <th>Skew:</th>          <td> 0.182</td> <th>  Prob(JB):          </th> <td>   0.829</td>\n",
       "</tr>\n",
       "<tr>\n",
       "  <th>Kurtosis:</th>      <td> 2.436</td> <th>  Cond. No.          </th> <td>    30.7</td>\n",
       "</tr>\n",
       "</table><br/><br/>Warnings:<br/>[1] Standard Errors assume that the covariance matrix of the errors is correctly specified."
      ],
      "text/plain": [
       "<class 'statsmodels.iolib.summary.Summary'>\n",
       "\"\"\"\n",
       "                            OLS Regression Results                            \n",
       "==============================================================================\n",
       "Dep. Variable:                      y   R-squared:                       0.769\n",
       "Model:                            OLS   Adj. R-squared:                  0.756\n",
       "Method:                 Least Squares   F-statistic:                     59.90\n",
       "Date:                Fri, 29 Jun 2018   Prob (F-statistic):           3.91e-07\n",
       "Time:                        08:18:03   Log-Likelihood:                -55.961\n",
       "No. Observations:                  20   AIC:                             115.9\n",
       "Df Residuals:                      18   BIC:                             117.9\n",
       "Df Model:                           1                                         \n",
       "Covariance Type:            nonrobust                                         \n",
       "==============================================================================\n",
       "                 coef    std err          t      P>|t|      [0.025      0.975]\n",
       "------------------------------------------------------------------------------\n",
       "const          1.5225      1.667      0.913      0.373      -1.980       5.025\n",
       "x1             0.7493      0.097      7.740      0.000       0.546       0.953\n",
       "==============================================================================\n",
       "Omnibus:                        0.209   Durbin-Watson:                   1.625\n",
       "Prob(Omnibus):                  0.901   Jarque-Bera (JB):                0.376\n",
       "Skew:                           0.182   Prob(JB):                        0.829\n",
       "Kurtosis:                       2.436   Cond. No.                         30.7\n",
       "==============================================================================\n",
       "\n",
       "Warnings:\n",
       "[1] Standard Errors assume that the covariance matrix of the errors is correctly specified.\n",
       "\"\"\""
      ]
     },
     "execution_count": 3,
     "metadata": {},
     "output_type": "execute_result"
    }
   ],
   "source": [
    "# linear regression -- we didn't cover it in the lectures\n",
    "# But here's how \n",
    "import statsmodels as sm\n",
    "import statsmodels.regression.linear_model as lm\n",
    "\n",
    "Y = np.array([1, 3, 4, 5, 2, 3, 4, 8, 12, 14, 11, 12, 23, 17, 14, 17, 18, 21, 25, 30])\n",
    "X = np.array([1, 2, 3, 4, 8, 6, 7, 9, 4, 17, 14, 15, 20, 31, 23, 25, 17, 20, 29, 30])\n",
    "X = sm.tools.tools.add_constant(X)  # adds a 1 to the data so the model can estimate a coefficient term\n",
    "\n",
    "# fit the model and display results \n",
    "model = lm.OLS(Y, X)\n",
    "results = model.fit()\n",
    "results.summary()"
   ]
  },
  {
   "cell_type": "code",
   "execution_count": null,
   "metadata": {},
   "outputs": [],
   "source": []
  }
 ],
 "metadata": {
  "kernelspec": {
   "display_name": "Python 3",
   "language": "python",
   "name": "python3"
  },
  "language_info": {
   "codemirror_mode": {
    "name": "ipython",
    "version": 3
   },
   "file_extension": ".py",
   "mimetype": "text/x-python",
   "name": "python",
   "nbconvert_exporter": "python",
   "pygments_lexer": "ipython3",
   "version": "3.6.5"
  }
 },
 "nbformat": 4,
 "nbformat_minor": 2
}
